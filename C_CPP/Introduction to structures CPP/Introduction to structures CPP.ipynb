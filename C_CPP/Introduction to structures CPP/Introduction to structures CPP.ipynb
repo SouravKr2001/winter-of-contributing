{
  "nbformat": 4,
  "nbformat_minor": 0,
  "metadata": {
    "colab": {
      "name": " Introduction to structures/C cpp.ipynb",
      "provenance": [],
      "collapsed_sections": []
    },
    "kernelspec": {
      "name": "python3",
      "display_name": "Python 3"
    },
    "language_info": {
      "name": "python"
    }
  },
  "cells": [
    {
      "cell_type": "markdown",
      "metadata": {
        "id": "HxQXfByApkVk"
      },
      "source": [
        " **Introduction to structures/C cpp**\n",
        "\n",
        " A structure is a user-defined data type in C/C++. A structure creates a data type that can be used to group items of possibly different types into a single type. \n",
        "\n",
        "In C++, classes and structs are blueprints that are used to create the instance of a class. Structs are used for lightweight objects .\n",
        "\n",
        "Unlike class, structs in C++ are value type than reference type. It is useful if you have data that is not intended to be modified after creation of struct."
      ]
    },
    {
      "cell_type": "markdown",
      "metadata": {
        "id": "tUtcsxN_qV2i"
      },
      "source": [
        "**How to create a structure**\n",
        "\n",
        "The ‘struct’ keyword is used to create a structure. The general syntax is:\n",
        "\n",
        "        struct structure_name  \n",
        "        {  \n",
        "         member1;\n",
        "         member2;\n",
        "         member3;\n",
        "        .\n",
        "        memberN; \n",
        "        }   \n",
        "\n",
        "In the above declaration, a structure is declared by preceding the struct keyword followed by the identifier(structure name). Inside the curly braces, we can declare the member variables of different types.\n",
        "\n",
        "**Structures in C++ can contain two types of members**:  \n",
        "\n",
        "- **Data Membe**r: These members are normal C++ variables. We can create a structure with variables of different data types in C++.\n",
        "\n",
        "- **Member Functions**: These members are normal C++ functions. Along with variables, we can also include functions inside a structure declaration.\n",
        "Example:  \n",
        "\n",
        "        // Data Members\n",
        "        int roll;\n",
        "        int age;\n",
        "        int marks;\n",
        "     \n",
        "        // Member Functions\n",
        "        void printDetails()\n",
        "        {\n",
        "            cout<<\"Roll = \"<<roll<<\"\\n\";\n",
        "            cout<<\"Age = \"<<age<<\"\\n\";\n",
        "            cout<<\"Marks = \"<<marks;\n",
        "        }\n",
        "        \n",
        "In the above structure, the data members are three integer variables to store roll number, age and marks of any student and the member function is printDetails() which is printing all of the above details of any student.\n",
        "\n",
        "        struct Student  \n",
        "        {  \n",
        "            char name[20];  \n",
        "            int id;  \n",
        "            int age;  \n",
        "        }  \n",
        "In the above case, Student is a structure contains three variables name, id, and age. When the structure is declared, no memory is allocated. When the variable of a structure is created, then the memory is allocated."
      ]
    },
    {
      "cell_type": "markdown",
      "metadata": {
        "id": "Vb_JInMorB4j"
      },
      "source": [
        ""
      ]
    },
    {
      "cell_type": "markdown",
      "metadata": {
        "id": "AZqPYoMjswJS"
      },
      "source": [
        "**How to declare structure variables**\n",
        "\n",
        "A structure variable can either be declared with structure declaration or as a separate declaration like basic types. \n",
        "\n",
        "     // A variable declaration with structure declaration.\n",
        "        struct Point\n",
        "        {\n",
        "         int x, y;\n",
        "        } p1;  \n",
        "    // The variable p1 is declared with 'Point' \n",
        " \n",
        "    // A variable declaration like basic data types\n",
        "        struct Point\n",
        "        {\n",
        "        int x, y;\n",
        "        };\n",
        " \n",
        "        int main()\n",
        "        {\n",
        "             struct Point p1;  // The variable p1 is declared like a normal variable\n",
        "        }"
      ]
    },
    {
      "cell_type": "markdown",
      "metadata": {
        "id": "TJ6hJrbvtV_t"
      },
      "source": [
        "**Note:** In C++, the struct keyword is optional before in declaration of a variable. In C, it is mandatory."
      ]
    },
    {
      "cell_type": "markdown",
      "metadata": {
        "id": "o0pDxHTQtYqs"
      },
      "source": [
        "**Initializing structure members**\n",
        "\n",
        "Structure members cannot be initialized with declaration. For example the following C program fails in compilation. \n",
        "But is considered correct in C++11 and above\n",
        "\n",
        "     struct Point\n",
        "    {\n",
        "        int x = 0; // COMPILER ERROR: cannot initialize members here\n",
        "        int y = 0; // COMPILER ERROR: cannot initialize members here\n",
        "    };\n",
        "\n",
        "The reason for above error is simple, when a datatype is declared, no memory is allocated for it. Memory is allocated only when variables are created.\n"
      ]
    },
    {
      "cell_type": "markdown",
      "metadata": {
        "id": "HKTD-4CTtonu"
      },
      "source": [
        "**Structure members can be initialized with declaration in C++**.\n",
        "\n",
        "For Example the following  C++ program Executes Successfully without throwing any Error.\n",
        "\n",
        "        // In C++ We can Initialize the Variables with Declaration in Structure.\n",
        "\n",
        "    #include <iostream>\n",
        "    using namespace std;\n",
        "\n",
        "    struct Point {\n",
        "\tint x = 0; // It is Considered as Default Arguments and no Error is Raised\n",
        "\tint y = 1;\n",
        "    };\n",
        "\n",
        "    int main()\n",
        "    {\n",
        "\tstruct Point p1;\n",
        "\n",
        "\t// Accessing members of point p1\n",
        "\t// No value is Initialized then the default value is considered.\n",
        "     ie x=0 and y=1;\n",
        "\t    cout << \"x = \" << p1.x << \", y = \" << p1.y<<endl;\n",
        "\n",
        "\t// Initializing the value of y = 20;\n",
        "\t    p1.y = 20;\n",
        "\t    cout << \"x = \" << p1.x << \", y = \" << p1.y;\n",
        "\t    return 0;\n",
        "    }\n",
        "    // This code is contributed by Samyak Jain\n",
        "\n",
        "**output**\n",
        "\n",
        "    x=0, y=1\n",
        "    x=0, y=20\n"
      ]
    },
    {
      "cell_type": "markdown",
      "metadata": {
        "id": "UBgo_RyxuzO1"
      },
      "source": [
        "Structure members can be initialized using curly braces ‘{}’. \n",
        "For example, \n",
        "\n",
        "        struct Point {\n",
        "    \t    int x, y;\n",
        "            };\n",
        "\n",
        "        int main()\n",
        "        {\n",
        "    \t// A valid initialization. member x gets value 0 and y\n",
        "\t    // gets value 1. The order of declaration is followed.\n",
        "    \tstruct Point p1 = { 0, 1 };\n",
        "        }\n",
        "\n",
        "\n"
      ]
    },
    {
      "cell_type": "markdown",
      "metadata": {
        "id": "0hACbIVTvErZ"
      },
      "source": [
        "**How to access structure elements** \n",
        "\n",
        "Structure members are accessed using dot (.) operator. \n",
        "\n",
        "        #include <iostream>\n",
        "        using namespace std;\n",
        "\n",
        "        struct Point {\n",
        "    \tint x, y;\n",
        "        };\n",
        "\n",
        "        int main()\n",
        "        {\n",
        "    \tstruct Point p1 = { 0, 1 };\n",
        "\n",
        "    \t// Accessing members of point p1\n",
        "    \tp1.x = 20;\n",
        "    \tcout << \"x = \" << p1.x << \", y = \" << p1.y;\n",
        "\n",
        "    \treturn 0;\n",
        "        }\n",
        "\n",
        "\n",
        "Output\n",
        "\n",
        "        x = 20, y = 1"
      ]
    },
    {
      "cell_type": "markdown",
      "metadata": {
        "id": "KFnHFex3vZYI"
      },
      "source": [
        "**What is an array of structures**\n",
        "\n",
        "Like other primitive data types, we can create an array of structures. \n",
        "\n",
        "        #include <iostream>\n",
        "        using namespace std;\n",
        "\n",
        "        struct Point {\n",
        "    \tint x, y;\n",
        "        };\n",
        "\n",
        "        int main()\n",
        "        {\n",
        "        \t// Create an array of structures\n",
        "    \tstruct Point arr[10];\n",
        "\n",
        "        \t// Access array members\n",
        "    \tarr[0].x = 10;\n",
        "\t    arr[0].y = 20;\n",
        "\n",
        "\t    cout << arr[0].x << \" \" << arr[0].y;\n",
        "\t    return 0;\n",
        "        }\n",
        "\n",
        "Output\n",
        "\n",
        "    10 20\n"
      ]
    },
    {
      "cell_type": "markdown",
      "metadata": {
        "id": "EPOOqN9av_8B"
      },
      "source": [
        "**What is a structure pointer**\n",
        "\n",
        "Like primitive types, we can have pointer to a structure. If we have a pointer to structure, members are accessed using arrow ( -> ) operator instead of the dot (.) operator.\n",
        "\n",
        "    #include <iostream>\n",
        "    using namespace std;\n",
        "\n",
        "    struct Point {\n",
        "\t    int x, y;\n",
        "    };\n",
        "\n",
        "    int main()\n",
        "    {\n",
        "\t    struct Point p1 = { 1, 2 };\n",
        "\n",
        "\t// p2 is a pointer to structure p1\n",
        "\t    struct Point* p2 = &p1;\n",
        "\n",
        "\t// Accessing structure members using\n",
        "\t// structure pointer\n",
        "\t    cout << p2->x << \" \" << p2->y;\n",
        "\t    return 0;\n",
        "    }\n",
        "\n",
        "Output\n",
        "        1 2\n"
      ]
    },
    {
      "cell_type": "markdown",
      "metadata": {
        "id": "cu8m11GGwgUd"
      },
      "source": [
        "**Structure vs class in C++**\n",
        "\n",
        "In C++, a structure is the same as a class except for a few differences. The most important of them is security. A Structure is not secure and cannot hide its implementation details from the end-user while a class is secure and can hide its programming and designing details. \n",
        " \n",
        "1) Members of a class are private by default and members of a structure are public by default. \n",
        "For example program 1 fails in compilation and program 2 works fine.\n",
        "\n",
        "    // Program 1\n",
        "    #include <stdio.h>\n",
        " \n",
        "    class Test {\n",
        "    int x; // x is private\n",
        "    };\n",
        "    int main()\n",
        "    {\n",
        "      Test t;\n",
        "      t.x = 20; // compiler error because x is private\n",
        "      getchar();\n",
        "      return 0;\n",
        "    }\n",
        "\n",
        "    // Program 2\n",
        "    #include <stdio.h>\n",
        "    \n",
        "    struct Test {\n",
        "        int x; // x is public\n",
        "    };\n",
        "    int main()\n",
        "    {\n",
        "      Test t;\n",
        "      t.x = 20; // works fine because x is public\n",
        "      getchar();\n",
        "      return 0;\n",
        "    }\n",
        "\n",
        "2) When deriving a struct from a class/struct, the default access-specifier for a base class/struct is public. And when deriving a class, the default access specifier is private. \n",
        "\n",
        "For example program 3 fails in compilation and program 4 works fine. \n",
        "\n",
        "    // Program 3\n",
        "    #include <stdio.h>\n",
        " \n",
        "    class Base {\n",
        "    public:\n",
        "        int x;\n",
        "    };\n",
        " \n",
        "    class Derived : Base { }; // is equivalent to class Derived : private Base {}\n",
        " \n",
        "    int main()\n",
        "    {\n",
        "      Derived d;\n",
        "      d.x = 20; // compiler error because inheritance is private\n",
        "      getchar();\n",
        "      return 0;\n",
        "    }\n",
        "\n",
        "    // Program 4\n",
        "    #include <stdio.h>\n",
        " \n",
        "    class Base {\n",
        "    public:\n",
        "        int x;\n",
        "    };\n",
        " \n",
        "    struct Derived : Base { }; // is equivalent to struct Derived : public Base {}\n",
        " \n",
        "    int main()\n",
        "    {\n",
        "      Derived d;\n",
        "      d.x = 20; // works fine because inheritance is public\n",
        "      getchar();\n",
        "      return 0;\n",
        "    }"
      ]
    },
    {
      "cell_type": "markdown",
      "metadata": {
        "id": "v6zXHDISyAnK"
      },
      "source": [
        "![0_ukc41_fvwaJOD3Xp.png](data:image/png;base64,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)"
      ]
    }
  ]
}